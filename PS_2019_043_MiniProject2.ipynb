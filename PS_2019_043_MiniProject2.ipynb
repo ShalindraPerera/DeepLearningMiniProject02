{
  "nbformat": 4,
  "nbformat_minor": 0,
  "metadata": {
    "colab": {
      "provenance": []
    },
    "kernelspec": {
      "name": "python3",
      "display_name": "Python 3"
    },
    "language_info": {
      "name": "python"
    }
  },
  "cells": [
    {
      "cell_type": "markdown",
      "source": [
        "# **Introduction To Deep Learning**\n",
        "# **Mini Project - 2**\n",
        "\n",
        "#**Student Number - PS/2019/043**\n",
        "#**Name - S.P. Perera**"
      ],
      "metadata": {
        "id": "U6DDniFof-js"
      }
    },
    {
      "cell_type": "markdown",
      "source": [
        "**Selected Company - Expo Lanka holdings**\n",
        "\n",
        "The Historical Share Price Data from 01/26/ 2019 to 25/02/2024\n",
        "\n",
        " LSTM – RNN model  to forecast stock price values"
      ],
      "metadata": {
        "id": "i3d3oZeJgxsY"
      }
    },
    {
      "cell_type": "markdown",
      "source": [
        "# **Import Necessary Libraries**"
      ],
      "metadata": {
        "id": "OK6W-Mfazylv"
      }
    },
    {
      "cell_type": "code",
      "execution_count": 1,
      "metadata": {
        "id": "NqWwU_TsbA3D"
      },
      "outputs": [],
      "source": [
        "import numpy as np\n",
        "import pandas as pd\n",
        "import matplotlib.pyplot as plt\n",
        "from sklearn.preprocessing import MinMaxScaler\n",
        "from tensorflow.keras.models import Sequential\n",
        "from tensorflow.keras.layers import LSTM, Dense\n",
        "\n"
      ]
    },
    {
      "cell_type": "markdown",
      "source": [
        "# **Mount Google Drive**"
      ],
      "metadata": {
        "id": "FC_O6MWXXKns"
      }
    },
    {
      "cell_type": "code",
      "source": [
        "from google.colab import drive\n",
        "import pandas as pd\n",
        "import numpy as np\n",
        "from sklearn.preprocessing import MinMaxScaler\n",
        "\n",
        "drive.mount('/content/drive')"
      ],
      "metadata": {
        "colab": {
          "base_uri": "https://localhost:8080/"
        },
        "id": "neGexKhJbJHe",
        "outputId": "024b14ec-70c0-40ba-c506-93a84d782964"
      },
      "execution_count": 2,
      "outputs": [
        {
          "output_type": "stream",
          "name": "stdout",
          "text": [
            "Mounted at /content/drive\n"
          ]
        }
      ]
    },
    {
      "cell_type": "markdown",
      "source": [
        "# **Specify the path to the CSV file of the dataset on Google Drive**"
      ],
      "metadata": {
        "id": "d5vjwiqfX692"
      }
    },
    {
      "cell_type": "code",
      "source": [
        "file_path = '/content/drive/My Drive/Deep Learning/PS-2019-043-MiniProject2/EXPO Historical Data.csv'"
      ],
      "metadata": {
        "id": "Tib-PvO1X6IK"
      },
      "execution_count": 8,
      "outputs": []
    },
    {
      "cell_type": "markdown",
      "source": [
        "# **Load data**"
      ],
      "metadata": {
        "id": "XLspX4dwaJre"
      }
    },
    {
      "cell_type": "code",
      "source": [
        "data = pd.read_csv(file_path)\n",
        "prices = data['Price'].values.reshape(-1, 1)"
      ],
      "metadata": {
        "id": "c7Vr5pETaLKm"
      },
      "execution_count": 9,
      "outputs": []
    },
    {
      "cell_type": "markdown",
      "source": [
        "# **Normalize data**"
      ],
      "metadata": {
        "id": "M_xYm5cpaPjg"
      }
    },
    {
      "cell_type": "code",
      "source": [
        "scaler = MinMaxScaler(feature_range=(0, 1))\n",
        "prices_normalized = scaler.fit_transform(prices)"
      ],
      "metadata": {
        "id": "UpnH_prjaWbg"
      },
      "execution_count": 10,
      "outputs": []
    },
    {
      "cell_type": "markdown",
      "source": [
        "# **Split data into training and testing sets**"
      ],
      "metadata": {
        "id": "ux8S8bSKadHB"
      }
    },
    {
      "cell_type": "code",
      "source": [
        "split_ratio = 0.8\n",
        "split_index = int(len(prices_normalized) * split_ratio)\n",
        "train_data = prices_normalized[:split_index]\n",
        "test_data = prices_normalized[split_index:]"
      ],
      "metadata": {
        "id": "6EqbBF5bacQZ"
      },
      "execution_count": 11,
      "outputs": []
    },
    {
      "cell_type": "markdown",
      "source": [
        "# **Prepare Data for LSTM**"
      ],
      "metadata": {
        "id": "1HONinrBZgvS"
      }
    },
    {
      "cell_type": "code",
      "source": [
        "def create_dataset(dataset, time_steps=1):\n",
        "    x, y = [], []\n",
        "    for i in range(len(dataset) - time_steps):\n",
        "        a = dataset[i:(i + time_steps), 0]\n",
        "        x.append(a)\n",
        "        y.append(dataset[i + time_steps, 0])\n",
        "    return np.array(x), np.array(y)\n",
        "\n",
        "time_steps = 10\n",
        "X_train, y_train = create_dataset(train_data, time_steps)\n",
        "X_test, y_test = create_dataset(test_data, time_steps)\n",
        "\n",
        "# Reshape input data to be in the form [samples, time steps, features]\n",
        "X_train = np.reshape(X_train, (X_train.shape[0], X_train.shape[1], 1))\n",
        "X_test = np.reshape(X_test, (X_test.shape[0], X_test.shape[1], 1))\n"
      ],
      "metadata": {
        "id": "7G4ubmeRfNL8"
      },
      "execution_count": 12,
      "outputs": []
    },
    {
      "cell_type": "markdown",
      "source": [
        "# **Build LSTM Model**"
      ],
      "metadata": {
        "id": "qsSuVRgNa0Je"
      }
    },
    {
      "cell_type": "code",
      "source": [
        "model = Sequential()\n",
        "model.add(LSTM(units=50, return_sequences=True, input_shape=(X_train.shape[1], 1)))\n",
        "model.add(LSTM(units=50, return_sequences=True))\n",
        "model.add(LSTM(units=50))\n",
        "model.add(Dense(units=1))\n",
        "\n",
        "model.compile(optimizer='adam', loss='mean_squared_error')\n",
        "model.fit(X_train, y_train, epochs=50, batch_size=32)\n"
      ],
      "metadata": {
        "colab": {
          "base_uri": "https://localhost:8080/"
        },
        "id": "ZTHgWO1hfPtI",
        "outputId": "de6c7611-92dd-4245-99ff-09b1e8c3e85c"
      },
      "execution_count": 13,
      "outputs": [
        {
          "output_type": "stream",
          "name": "stdout",
          "text": [
            "Epoch 1/50\n",
            "30/30 [==============================] - 8s 17ms/step - loss: 0.0302\n",
            "Epoch 2/50\n",
            "30/30 [==============================] - 1s 18ms/step - loss: 0.0027\n",
            "Epoch 3/50\n",
            "30/30 [==============================] - 1s 17ms/step - loss: 0.0024\n",
            "Epoch 4/50\n",
            "30/30 [==============================] - 1s 18ms/step - loss: 0.0022\n",
            "Epoch 5/50\n",
            "30/30 [==============================] - 1s 17ms/step - loss: 0.0022\n",
            "Epoch 6/50\n",
            "30/30 [==============================] - 1s 18ms/step - loss: 0.0023\n",
            "Epoch 7/50\n",
            "30/30 [==============================] - 1s 17ms/step - loss: 0.0023\n",
            "Epoch 8/50\n",
            "30/30 [==============================] - 1s 18ms/step - loss: 0.0021\n",
            "Epoch 9/50\n",
            "30/30 [==============================] - 1s 18ms/step - loss: 0.0021\n",
            "Epoch 10/50\n",
            "30/30 [==============================] - 1s 18ms/step - loss: 0.0023\n",
            "Epoch 11/50\n",
            "30/30 [==============================] - 1s 18ms/step - loss: 0.0020\n",
            "Epoch 12/50\n",
            "30/30 [==============================] - 1s 18ms/step - loss: 0.0019\n",
            "Epoch 13/50\n",
            "30/30 [==============================] - 1s 18ms/step - loss: 0.0020\n",
            "Epoch 14/50\n",
            "30/30 [==============================] - 1s 18ms/step - loss: 0.0018\n",
            "Epoch 15/50\n",
            "30/30 [==============================] - 1s 19ms/step - loss: 0.0018\n",
            "Epoch 16/50\n",
            "30/30 [==============================] - 1s 27ms/step - loss: 0.0018\n",
            "Epoch 17/50\n",
            "30/30 [==============================] - 1s 27ms/step - loss: 0.0019\n",
            "Epoch 18/50\n",
            "30/30 [==============================] - 1s 27ms/step - loss: 0.0017\n",
            "Epoch 19/50\n",
            "30/30 [==============================] - 1s 31ms/step - loss: 0.0015\n",
            "Epoch 20/50\n",
            "30/30 [==============================] - 1s 30ms/step - loss: 0.0016\n",
            "Epoch 21/50\n",
            "30/30 [==============================] - 1s 18ms/step - loss: 0.0013\n",
            "Epoch 22/50\n",
            "30/30 [==============================] - 1s 18ms/step - loss: 0.0012\n",
            "Epoch 23/50\n",
            "30/30 [==============================] - 1s 18ms/step - loss: 0.0012\n",
            "Epoch 24/50\n",
            "30/30 [==============================] - 1s 18ms/step - loss: 0.0013\n",
            "Epoch 25/50\n",
            "30/30 [==============================] - 1s 18ms/step - loss: 0.0012\n",
            "Epoch 26/50\n",
            "30/30 [==============================] - 1s 18ms/step - loss: 0.0012\n",
            "Epoch 27/50\n",
            "30/30 [==============================] - 1s 18ms/step - loss: 9.6749e-04\n",
            "Epoch 28/50\n",
            "30/30 [==============================] - 1s 18ms/step - loss: 0.0011\n",
            "Epoch 29/50\n",
            "30/30 [==============================] - 1s 18ms/step - loss: 0.0012\n",
            "Epoch 30/50\n",
            "30/30 [==============================] - 1s 19ms/step - loss: 8.9727e-04\n",
            "Epoch 31/50\n",
            "30/30 [==============================] - 1s 19ms/step - loss: 9.3263e-04\n",
            "Epoch 32/50\n",
            "30/30 [==============================] - 1s 18ms/step - loss: 8.9182e-04\n",
            "Epoch 33/50\n",
            "30/30 [==============================] - 1s 18ms/step - loss: 8.8466e-04\n",
            "Epoch 34/50\n",
            "30/30 [==============================] - 1s 18ms/step - loss: 8.1371e-04\n",
            "Epoch 35/50\n",
            "30/30 [==============================] - 1s 19ms/step - loss: 7.9234e-04\n",
            "Epoch 36/50\n",
            "30/30 [==============================] - 1s 18ms/step - loss: 7.2774e-04\n",
            "Epoch 37/50\n",
            "30/30 [==============================] - 1s 19ms/step - loss: 6.9930e-04\n",
            "Epoch 38/50\n",
            "30/30 [==============================] - 1s 18ms/step - loss: 7.4074e-04\n",
            "Epoch 39/50\n",
            "30/30 [==============================] - 1s 30ms/step - loss: 7.8709e-04\n",
            "Epoch 40/50\n",
            "30/30 [==============================] - 1s 28ms/step - loss: 6.6678e-04\n",
            "Epoch 41/50\n",
            "30/30 [==============================] - 1s 27ms/step - loss: 7.1577e-04\n",
            "Epoch 42/50\n",
            "30/30 [==============================] - 1s 28ms/step - loss: 7.8192e-04\n",
            "Epoch 43/50\n",
            "30/30 [==============================] - 1s 26ms/step - loss: 7.2446e-04\n",
            "Epoch 44/50\n",
            "30/30 [==============================] - 1s 18ms/step - loss: 7.2104e-04\n",
            "Epoch 45/50\n",
            "30/30 [==============================] - 1s 17ms/step - loss: 6.7240e-04\n",
            "Epoch 46/50\n",
            "30/30 [==============================] - 1s 18ms/step - loss: 6.2023e-04\n",
            "Epoch 47/50\n",
            "30/30 [==============================] - 1s 18ms/step - loss: 6.0412e-04\n",
            "Epoch 48/50\n",
            "30/30 [==============================] - 1s 18ms/step - loss: 6.4381e-04\n",
            "Epoch 49/50\n",
            "30/30 [==============================] - 1s 19ms/step - loss: 5.7935e-04\n",
            "Epoch 50/50\n",
            "30/30 [==============================] - 1s 18ms/step - loss: 6.3014e-04\n"
          ]
        },
        {
          "output_type": "execute_result",
          "data": {
            "text/plain": [
              "<keras.src.callbacks.History at 0x7c4de84f68c0>"
            ]
          },
          "metadata": {},
          "execution_count": 13
        }
      ]
    },
    {
      "cell_type": "markdown",
      "source": [
        "# **Predictions**"
      ],
      "metadata": {
        "id": "4Kjl8aKua5K-"
      }
    },
    {
      "cell_type": "code",
      "source": [
        "predicted_stock_prices = model.predict(X_test)\n",
        "predicted_stock_prices = scaler.inverse_transform(predicted_stock_prices.reshape(-1, 1))\n",
        "\n",
        "# Plot the results\n",
        "plt.plot(data['Date'][split_index + time_steps:], predicted_stock_prices, label='Predicted Prices')\n",
        "plt.plot(data['Date'][split_index + time_steps:], scaler.inverse_transform(test_data[time_steps:].reshape(-1, 1)),\n",
        "         label='Actual Prices')\n",
        "plt.xlabel('Date')\n",
        "plt.ylabel('Stock Price')\n",
        "plt.legend()\n",
        "plt.show()\n"
      ],
      "metadata": {
        "colab": {
          "base_uri": "https://localhost:8080/",
          "height": 466
        },
        "id": "q1Lzz6gAfjRL",
        "outputId": "ee0a64a1-b1d9-4c79-d96a-c970b3626bdc"
      },
      "execution_count": 14,
      "outputs": [
        {
          "output_type": "stream",
          "name": "stdout",
          "text": [
            "8/8 [==============================] - 1s 8ms/step\n"
          ]
        },
        {
          "output_type": "display_data",
          "data": {
            "text/plain": [
              "<Figure size 640x480 with 1 Axes>"
            ],
            "image/png": "[encoded data removed]"
          },
          "metadata": {}
        }
      ]
    },
    {
      "cell_type": "markdown",
      "source": [
        "# **Comparison of the Predicted Prices with the Actual Prices**"
      ],
      "metadata": {
        "id": "4Ra9SiZFc63L"
      }
    },
    {
      "cell_type": "code",
      "source": [
        "# Combine actual and predicted prices into a DataFrame for easier printing\n",
        "results_df = pd.DataFrame({\n",
        "    'Date': data['Date'][split_index + time_steps:],\n",
        "    'Actual Prices': scaler.inverse_transform(test_data[time_steps:].reshape(-1, 1)).flatten(),\n",
        "    'Predicted Prices': predicted_stock_prices.flatten()\n",
        "})\n",
        "\n",
        "# Print the DataFrame\n",
        "print(results_df)\n"
      ],
      "metadata": {
        "colab": {
          "base_uri": "https://localhost:8080/"
        },
        "id": "BvLeV01Icv7D",
        "outputId": "3edf247a-fed6-4994-a996-4af3af45e82c"
      },
      "execution_count": 15,
      "outputs": [
        {
          "output_type": "stream",
          "name": "stdout",
          "text": [
            "            Date  Actual Prices  Predicted Prices\n",
            "954   01/06/2020            5.0          5.232300\n",
            "955   01/03/2020            4.9          5.228689\n",
            "956   01/02/2020            5.1          5.232962\n",
            "957   12/31/2019            5.1          5.258938\n",
            "958   12/30/2019            5.0          5.298639\n",
            "...          ...            ...               ...\n",
            "1176  02/01/2019            4.1          4.558400\n",
            "1177  01/31/2019            4.0          4.522120\n",
            "1178  01/30/2019            4.1          4.480132\n",
            "1179  01/29/2019            4.1          4.448960\n",
            "1180  01/28/2019            4.1          4.430933\n",
            "\n",
            "[227 rows x 3 columns]\n"
          ]
        }
      ]
    },
    {
      "cell_type": "markdown",
      "source": [
        "# **Assess the performance of the model by computing the Root Mean Squared Error (RMSE)**"
      ],
      "metadata": {
        "id": "I5YX3IOKa__Q"
      }
    },
    {
      "cell_type": "code",
      "source": [
        "from sklearn.metrics import mean_squared_error\n",
        "from math import sqrt\n",
        "\n",
        "# Make predictions on the test data\n",
        "predicted_stock_prices = model.predict(X_test)\n",
        "predicted_stock_prices = scaler.inverse_transform(predicted_stock_prices.reshape(-1, 1))\n",
        "\n",
        "# Inverse transform the original test data for comparison\n",
        "actual_stock_prices = scaler.inverse_transform(test_data[time_steps:].reshape(-1, 1))\n",
        "\n",
        "# Calculate RMSE\n",
        "rmse = sqrt(mean_squared_error(actual_stock_prices, predicted_stock_prices))\n",
        "print(f'Root Mean Squared Error (RMSE): {rmse}')"
      ],
      "metadata": {
        "colab": {
          "base_uri": "https://localhost:8080/"
        },
        "id": "913ZGJC3f-Wc",
        "outputId": "e5388699-c2af-4a61-ac9e-5c12f897f0ac"
      },
      "execution_count": 16,
      "outputs": [
        {
          "output_type": "stream",
          "name": "stdout",
          "text": [
            "8/8 [==============================] - 0s 5ms/step\n",
            "Root Mean Squared Error (RMSE): 0.3921468461850999\n"
          ]
        }
      ]
    }
  ]
}